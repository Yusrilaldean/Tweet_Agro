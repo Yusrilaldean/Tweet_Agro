{
 "cells": [
  {
   "cell_type": "code",
   "execution_count": 1,
   "metadata": {},
   "outputs": [],
   "source": [
    "import tweepy\n",
    "import pandas as pd"
   ]
  },
  {
   "cell_type": "code",
   "execution_count": 2,
   "metadata": {},
   "outputs": [],
   "source": [
    "api_key = \"DSWM4DG0dA24FLNES9fjYvOU2\"\n",
    "api_secret_key = \"4Iae2GFNG7Ycg6QrdS2K2qFndn9V951Ty6pnCvfVnYKGcTRqcC\"\n",
    "access_token = \"1189906063346135042-9dosXnpfLdYV9LPKDhQo1r9SjXuKpG\"\n",
    "access_token_secret = \"UhDwUWP85WNbtpxNQPCAdmIlOZFfkVVsZIllba4zl5i8T\""
   ]
  },
  {
   "cell_type": "code",
   "execution_count": 13,
   "metadata": {},
   "outputs": [
    {
     "name": "stdout",
     "output_type": "stream",
     "text": [
      "1\n",
      "2\n",
      "3\n",
      "4\n",
      "5\n",
      "6\n",
      "7\n",
      "8\n",
      "9\n",
      "10\n",
      "11\n",
      "12\n",
      "13\n",
      "14\n",
      "15\n",
      "16\n",
      "17\n",
      "18\n",
      "19\n",
      "20\n",
      "21\n",
      "22\n",
      "23\n",
      "24\n",
      "25\n",
      "26\n",
      "27\n",
      "28\n",
      "29\n",
      "30\n",
      "31\n",
      "32\n",
      "33\n",
      "34\n",
      "35\n",
      "36\n"
     ]
    }
   ],
   "source": [
    "auth = tweepy.OAuthHandler(api_key, api_secret_key)\n",
    "auth.set_access_token(access_token, access_token_secret)\n",
    "api = tweepy.API(auth,wait_on_rate_limit=True,wait_on_rate_limit_notify=True)\n",
    "\n",
    "query = 'Penebangan Hutan'\n",
    "\n",
    "\n",
    "#List\n",
    "tweetan=[]\n",
    "tanggal=[]\n",
    "teks=[]\n",
    "Id=[]\n",
    "sn=[]\n",
    "source=[]\n",
    "rtc=[]\n",
    "rts=[]\n",
    "hashtag =[]\n",
    "\n",
    "for tweet in tweepy.Cursor(api.search, q=query, count=10, lang = \"id\",since = \"2015-01-1\").items():    \n",
    "    tweetan.append(tweet)\n",
    "    tanggal.append(tweet.created_at) \n",
    "    teks.append(tweet.text.encode('utf-8'))\n",
    "    Id.append(tweet.id)\n",
    "    sn.append(tweet.user.screen_name)\n",
    "    source.append(tweet.source)\n",
    "    rtc.append(tweet.retweet_count)\n",
    "    hashtag.append([x['text'] for x in tweet.entities['hashtags']])\n",
    "    if 'RT' in tweet.text :\n",
    "        rts.append(1)\n",
    "    else :\n",
    "        rts.append(0)\n",
    "    print(len(Id))"
   ]
  },
  {
   "cell_type": "code",
   "execution_count": 14,
   "metadata": {},
   "outputs": [],
   "source": [
    "data = pd.DataFrame()\n",
    "data['Tanggal']=tanggal\n",
    "data['Tweets']=teks\n",
    "data['ID']=Id\n",
    "data['Screen Name']=sn\n",
    "data['Banyak Retweet']=rtc\n",
    "data['Source']=source\n",
    "data['Retweet Status']=rts\n",
    "data['Hashtags'] = hashtag\n",
    "data.to_csv('Dataset6.csv',index=False)"
   ]
  },
  {
   "cell_type": "code",
   "execution_count": null,
   "metadata": {},
   "outputs": [],
   "source": []
  }
 ],
 "metadata": {
  "kernelspec": {
   "display_name": "Python 3",
   "language": "python",
   "name": "python3"
  },
  "language_info": {
   "codemirror_mode": {
    "name": "ipython",
    "version": 3
   },
   "file_extension": ".py",
   "mimetype": "text/x-python",
   "name": "python",
   "nbconvert_exporter": "python",
   "pygments_lexer": "ipython3",
   "version": "3.7.6"
  }
 },
 "nbformat": 4,
 "nbformat_minor": 4
}
